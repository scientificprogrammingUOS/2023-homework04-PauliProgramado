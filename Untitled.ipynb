{
 "cells": [
  {
   "cell_type": "code",
   "execution_count": 99,
   "id": "52b7ed8e-80eb-43b2-b5ca-21382ded3e47",
   "metadata": {
    "tags": []
   },
   "outputs": [],
   "source": [
    "import numpy as np\n",
    "\n",
    "def gaussian_analysis(loc, scale, lower_bound, upper_bound):\n",
    "    parameters= {loc,scale,lower_bound,upper_bound}\n",
    "    if all([isinstance(item, int) for item in parameters]) or all([isinstance(item, float) for item in parameters]):\n",
    "        if lower_bound>=upper_bound:\n",
    "            raise ValueError(\"pls make sure lower and upper bound are in order\")\n",
    "        else:\n",
    "            array=np.random.normal(loc, scale, size=100)\n",
    "            array=np.array([x for x in array if x<=upper_bound])\n",
    "            array=np.array([x for x in array if x>=lower_bound])\n",
    "            mean=np.mean(array)\n",
    "            std=np.std(array)\n",
    "            return((mean, std))\n",
    "        \n",
    "    else:\n",
    "        raise ValueError(\"pls only give me int or float\")\n",
    "        \n",
    "        \n",
    "    \n"
   ]
  },
  {
   "cell_type": "code",
   "execution_count": 100,
   "id": "57e8815c-7cdc-4f85-b618-8045585e1dcf",
   "metadata": {},
   "outputs": [
    {
     "data": {
      "text/plain": [
       "(3.300533285319432, 0.7793999987268698)"
      ]
     },
     "execution_count": 100,
     "metadata": {},
     "output_type": "execute_result"
    }
   ],
   "source": [
    "gaussian_analysis(2,2,2,5)"
   ]
  },
  {
   "cell_type": "code",
   "execution_count": null,
   "id": "f0a06c20-fee1-49a8-ad83-67b0c38eecb8",
   "metadata": {},
   "outputs": [],
   "source": []
  }
 ],
 "metadata": {
  "kernelspec": {
   "display_name": "scipy_conda",
   "language": "python",
   "name": "scipy_conda"
  },
  "language_info": {
   "codemirror_mode": {
    "name": "ipython",
    "version": 3
   },
   "file_extension": ".py",
   "mimetype": "text/x-python",
   "name": "python",
   "nbconvert_exporter": "python",
   "pygments_lexer": "ipython3",
   "version": "3.11.3"
  }
 },
 "nbformat": 4,
 "nbformat_minor": 5
}
